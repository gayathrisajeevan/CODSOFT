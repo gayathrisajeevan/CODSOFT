{
 "cells": [
  {
   "cell_type": "code",
   "execution_count": null,
   "id": "4b1e46a8-f8fb-4168-b431-3226ae4e77ea",
   "metadata": {},
   "outputs": [],
   "source": [
    "# MOVIE RATING PREDICTION "
   ]
  },
  {
   "cell_type": "code",
   "execution_count": 1,
   "id": "d05aa050-f87c-426d-9cbb-b414b5fb5204",
   "metadata": {},
   "outputs": [
    {
     "name": "stdout",
     "output_type": "stream",
     "text": [
      "Mean Squared Error: 1.1700251231060603\n"
     ]
    }
   ],
   "source": [
    "import pandas as pd\n",
    "from sklearn.model_selection import train_test_split\n",
    "from sklearn.preprocessing import OneHotEncoder\n",
    "from sklearn.ensemble import RandomForestRegressor\n",
    "from sklearn.metrics import mean_squared_error\n",
    "\n",
    "# Load the dataset with proper encoding\n",
    "file_path = \"IMDb Movies India.csv\"\n",
    "df = pd.read_csv(file_path, encoding=\"latin1\")\n",
    "\n",
    "# Convert 'Year' to numeric\n",
    "df[\"Year\"] = df[\"Year\"].str.extract(r\"(\\d{4})\").astype(float)\n",
    "\n",
    "# Convert 'Duration' to numeric\n",
    "df[\"Duration\"] = df[\"Duration\"].str.extract(r\"(\\d+)\").astype(float)\n",
    "\n",
    "# Clean 'Votes' column (remove commas and convert to numeric)\n",
    "df[\"Votes\"] = df[\"Votes\"].astype(str)\n",
    "df[\"Votes\"] = df[\"Votes\"].apply(lambda x: x.replace(\",\", \"\") if x.replace(\",\", \"\").replace(\".\", \"\").isnumeric() else None)\n",
    "df[\"Votes\"] = pd.to_numeric(df[\"Votes\"])\n",
    "\n",
    "# Drop rows where 'Rating' is missing\n",
    "df_cleaned = df.dropna(subset=[\"Rating\"]).copy()\n",
    "\n",
    "# Fill missing numerical values with median using .loc\n",
    "df_cleaned.loc[:, \"Year\"] = df_cleaned[\"Year\"].fillna(df_cleaned[\"Year\"].median())\n",
    "df_cleaned.loc[:, \"Duration\"] = df_cleaned[\"Duration\"].fillna(df_cleaned[\"Duration\"].median())\n",
    "df_cleaned.loc[:, \"Votes\"] = df_cleaned[\"Votes\"].fillna(df_cleaned[\"Votes\"].median())\n",
    "\n",
    "# Fill missing categorical values with 'Unknown' using .loc\n",
    "categorical_cols = [\"Genre\", \"Director\", \"Actor 1\", \"Actor 2\", \"Actor 3\"]\n",
    "df_cleaned.loc[:, categorical_cols] = df_cleaned[categorical_cols].fillna(\"Unknown\")\n",
    "\n",
    "# One-hot encode categorical features (after dropping missing Rating)\n",
    "ohe = OneHotEncoder(handle_unknown='ignore', sparse_output=False)\n",
    "categorical_encoded = ohe.fit_transform(df_cleaned[categorical_cols])\n",
    "categorical_encoded_df = pd.DataFrame(categorical_encoded, columns=ohe.get_feature_names_out(categorical_cols))\n",
    "\n",
    "# Combine numerical and categorical features\n",
    "numerical_cols = [\"Year\", \"Duration\", \"Votes\"]\n",
    "X = pd.concat([df_cleaned[numerical_cols].reset_index(drop=True), categorical_encoded_df], axis=1)\n",
    "y = df_cleaned[\"Rating\"].reset_index(drop=True)  # Ensure y and X have the same index\n",
    "\n",
    "# Split data into training and testing sets\n",
    "X_train, X_test, y_train, y_test = train_test_split(X, y, test_size=0.2, random_state=42)\n",
    "\n",
    "# Train a Random Forest Regressor model\n",
    "model = RandomForestRegressor(n_estimators=100, random_state=42)\n",
    "model.fit(X_train, y_train)\n",
    "\n",
    "# Make predictions\n",
    "y_pred = model.predict(X_test)\n",
    "\n",
    "\n",
    "# Evaluate the model\n",
    "mse = mean_squared_error(y_test, y_pred)\n",
    "print(f\"Mean Squared Error: {mse}\")\n"
   ]
  },
  {
   "cell_type": "code",
   "execution_count": null,
   "id": "21e68ec5-47fb-443f-9fec-f9d301a45cca",
   "metadata": {},
   "outputs": [],
   "source": []
  }
 ],
 "metadata": {
  "kernelspec": {
   "display_name": "Python 3 (ipykernel)",
   "language": "python",
   "name": "python3"
  },
  "language_info": {
   "codemirror_mode": {
    "name": "ipython",
    "version": 3
   },
   "file_extension": ".py",
   "mimetype": "text/x-python",
   "name": "python",
   "nbconvert_exporter": "python",
   "pygments_lexer": "ipython3",
   "version": "3.12.4"
  }
 },
 "nbformat": 4,
 "nbformat_minor": 5
}
